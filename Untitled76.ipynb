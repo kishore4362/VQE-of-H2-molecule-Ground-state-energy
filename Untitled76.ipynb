{
 "cells": [
  {
   "cell_type": "code",
   "execution_count": 14,
   "id": "1833fd61-fed8-4805-8b8f-cf6ffdfaaac3",
   "metadata": {
    "tags": []
   },
   "outputs": [],
   "source": [
    "# Importing standard Qiskit libraries\n",
    "from qiskit import QuantumCircuit, transpile, Aer\n",
    "from qiskit.tools.jupyter import *\n",
    "from qiskit.visualization import *\n",
    "from ibm_quantum_widgets import *\n",
    "\n",
    "# qiskit-ibmq-provider has been deprecated.\n",
    "# Please see the Migration Guides in https://ibm.biz/provider_migration_guide for more detail.\n",
    "from qiskit_ibm_runtime import QiskitRuntimeService, Sampler, Estimator, Session, Options\n",
    "\n",
    "# Loading your IBM Quantum account(s)\n",
    "service = QiskitRuntimeService(channel=\"ibm_quantum\")\n",
    "\n",
    "# Invoke a primitive. For more details see https://docs.quantum-computing.ibm.com/run/primitives\n",
    "# result = Sampler().run(circuits).result()"
   ]
  },
  {
   "cell_type": "code",
   "execution_count": 15,
   "id": "98c23964-c10e-4852-96c0-dcbf8143517b",
   "metadata": {
    "tags": []
   },
   "outputs": [
    {
     "name": "stderr",
     "output_type": "stream",
     "text": [
      "/tmp/ipykernel_585/2751710958.py:40: DeprecationWarning: The class ``qiskit.algorithms.minimum_eigen_solvers.vqe.VQE`` is deprecated as of qiskit-terra 0.24.0. It will be removed no earlier than 3 months after the release date. Instead, use the class ``qiskit.algorithms.minimum_eigensolvers.VQE``. See https://qisk.it/algo_migration for a migration guide.\n",
      "  vqe= VQE(ansatz, optimizer, quantum_instance=backend)\n"
     ]
    },
    {
     "name": "stdout",
     "output_type": "stream",
     "text": [
      "{   'aux_operator_eigenvalues': None,\n",
      "    'cost_function_evals': 49,\n",
      "    'eigenstate': array([-1.96261557e-17+1.90819582e-17j,  7.85030136e-17-1.80799659e-16j,\n",
      "        6.93889390e-17-1.63837481e-16j, -2.33060599e-17-5.55111512e-17j,\n",
      "        3.92524276e-17-8.15320034e-17j,  9.93763127e-01-4.05534802e-16j,\n",
      "       -1.89666394e-06-5.88782349e-17j, -1.64275466e-17-2.49800181e-16j,\n",
      "        2.64542743e-17-1.73472348e-18j, -4.99429073e-05-8.58338501e-18j,\n",
      "       -1.11511639e-01+9.21608601e-17j,  1.83964629e-17+0.00000000e+00j,\n",
      "        3.08148791e-33+7.11236625e-17j, -5.55111512e-17-1.64306047e-17j,\n",
      "       -7.35978458e-17+1.27979210e-17j, -2.08527905e-17-8.32667268e-17j]),\n",
      "    'eigenvalue': (-1.8572750272096865+0j),\n",
      "    'optimal_circuit': None,\n",
      "    'optimal_parameters': {   ParameterVectorElement(t[2]): -0.11174404667204008,\n",
      "                              ParameterVectorElement(t[1]): 4.994290728897976e-05,\n",
      "                              ParameterVectorElement(t[0]): 1.8966639460668337e-06},\n",
      "    'optimal_point': array([ 1.89666395e-06,  4.99429073e-05, -1.11744047e-01]),\n",
      "    'optimal_value': -1.8572750272096865,\n",
      "    'optimizer_evals': None,\n",
      "    'optimizer_result': None,\n",
      "    'optimizer_time': 0.9661827087402344}\n"
     ]
    }
   ],
   "source": [
    "from qiskit_nature.units import DistanceUnit\n",
    "from qiskit_nature.second_q.drivers import PySCFDriver\n",
    "from qiskit_nature.second_q.mappers import JordanWignerMapper\n",
    "from qiskit_nature.converters.second_quantization import QubitConverter\n",
    "from qiskit.algorithms import VQE\n",
    "from qiskit.algorithms.optimizers import SPSA, COBYLA\n",
    "from qiskit.primitives import Estimator\n",
    "from qiskit_nature.second_q.circuit.library import HartreeFock, UCCSD\n",
    "\n",
    "\n",
    "driver = PySCFDriver(\n",
    "    atom=\"H 0 0 0; H 0 0 0.735\",\n",
    "    basis=\"sto3g\",\n",
    "    charge=0,\n",
    "    spin=0,\n",
    "    unit=DistanceUnit.ANGSTROM,\n",
    ")\n",
    "\n",
    "problem = driver.run()\n",
    "hamiltonian= problem.hamiltonian.second_q_op()\n",
    "\n",
    "qubit_mapper= JordanWignerMapper()\n",
    "qubit_hamiltonian= qubit_mapper.map(hamiltonian)\n",
    "\n",
    "initial_state= HartreeFock(\n",
    "    num_spatial_orbitals= problem.num_spatial_orbitals,\n",
    "    num_particles= problem.num_particles,\n",
    "    qubit_mapper= qubit_mapper)\n",
    "\n",
    "ansatz = UCCSD(\n",
    "    num_spatial_orbitals= problem.num_spatial_orbitals,\n",
    "    num_particles= problem.num_particles,\n",
    "    qubit_mapper= qubit_mapper,\n",
    "    initial_state= initial_state)\n",
    "\n",
    "optimizer= COBYLA (maxiter=1000)\n",
    "\n",
    "\n",
    "backend= Aer.get_backend(\"statevector_simulator\")\n",
    "vqe= VQE(ansatz, optimizer, quantum_instance=backend)\n",
    "result=vqe.compute_minimum_eigenvalue(qubit_hamiltonian)\n",
    "print(result)\n",
    "#result= problem.interpret(result)\n",
    "#vqe_energy= result.total_energies[0]\n"
   ]
  },
  {
   "cell_type": "code",
   "execution_count": null,
   "id": "68af68fb-ed44-415e-9098-b7d33d74dabd",
   "metadata": {},
   "outputs": [],
   "source": []
  }
 ],
 "metadata": {
  "kernelspec": {
   "display_name": "Python 3 (ipykernel)",
   "language": "python",
   "name": "python3"
  },
  "language_info": {
   "codemirror_mode": {
    "name": "ipython",
    "version": 3
   },
   "file_extension": ".py",
   "mimetype": "text/x-python",
   "name": "python",
   "nbconvert_exporter": "python",
   "pygments_lexer": "ipython3",
   "version": "3.10.8"
  },
  "widgets": {
   "application/vnd.jupyter.widget-state+json": {
    "state": {
     "06eb65f060974dd1bf07e1c76a57a5c1": {
      "model_module": "@jupyter-widgets/controls",
      "model_module_version": "2.0.0",
      "model_name": "HTMLStyleModel",
      "state": {
       "description_width": "",
       "font_size": null,
       "text_color": null
      }
     },
     "089e6a4c60704d50918ca5d8e6ac42ac": {
      "model_module": "@jupyter-widgets/base",
      "model_module_version": "2.0.0",
      "model_name": "LayoutModel",
      "state": {
       "margin": "0px 0px 0px 37px",
       "width": "600px"
      }
     },
     "0f28e6db410446d384482b0e8010b13e": {
      "model_module": "@jupyter-widgets/controls",
      "model_module_version": "2.0.0",
      "model_name": "HTMLModel",
      "state": {
       "layout": "IPY_MODEL_8e1b0ac4284648df9151ec07e0a47291",
       "style": "IPY_MODEL_639a92fcdb2f4a95a8b9158d4be011e6",
       "value": "<p style='font-family: IBM Plex Sans, Arial, Helvetica, sans-serif; font-size: 20px; font-weight: medium;'>Circuit Properties</p>"
      }
     },
     "130bb1e7eb6441a6b5bc78874b5db7b3": {
      "model_module": "@jupyter-widgets/controls",
      "model_module_version": "2.0.0",
      "model_name": "HTMLStyleModel",
      "state": {
       "description_width": "",
       "font_size": null,
       "text_color": null
      }
     },
     "162562df4a634cd38e0dd7172dc99161": {
      "model_module": "@jupyter-widgets/base",
      "model_module_version": "2.0.0",
      "model_name": "LayoutModel",
      "state": {
       "width": "70px"
      }
     },
     "1f2af3d2858247679d44914c25ada299": {
      "model_module": "@jupyter-widgets/controls",
      "model_module_version": "2.0.0",
      "model_name": "GridBoxModel",
      "state": {
       "children": [
        "IPY_MODEL_260a27618ad34d748b0c1721b81d1997"
       ],
       "layout": "IPY_MODEL_9fbda47a9e2049d0abb9a77853a93ef0"
      }
     },
     "22d2e441fae449878166c3e6c83ff534": {
      "model_module": "@jupyter-widgets/controls",
      "model_module_version": "2.0.0",
      "model_name": "HTMLStyleModel",
      "state": {
       "description_width": "",
       "font_size": null,
       "text_color": null
      }
     },
     "260a27618ad34d748b0c1721b81d1997": {
      "model_module": "@jupyter-widgets/controls",
      "model_module_version": "2.0.0",
      "model_name": "ButtonModel",
      "state": {
       "button_style": "primary",
       "description": "Clear",
       "layout": "IPY_MODEL_8ec0418a26ba493fb385de999813cfc8",
       "style": "IPY_MODEL_65acf8e44adc4b6ebf308a9b56ad79f4",
       "tooltip": null
      }
     },
     "2f90921c68f24032a26ebcd77ebbee61": {
      "model_module": "@jupyter-widgets/controls",
      "model_module_version": "2.0.0",
      "model_name": "HTMLStyleModel",
      "state": {
       "description_width": "",
       "font_size": null,
       "text_color": null
      }
     },
     "3c2278b0a0b04b219679242fd1297f85": {
      "model_module": "@jupyter-widgets/controls",
      "model_module_version": "2.0.0",
      "model_name": "HTMLModel",
      "state": {
       "layout": "IPY_MODEL_d24197719b6d47949bb9f618f41fe236",
       "style": "IPY_MODEL_130bb1e7eb6441a6b5bc78874b5db7b3",
       "value": "<h5>Message</h5>"
      }
     },
     "3fcae0ef96ec4efdb607bd1c38494f59": {
      "model_module": "@jupyter-widgets/controls",
      "model_module_version": "2.0.0",
      "model_name": "HTMLStyleModel",
      "state": {
       "description_width": "",
       "font_size": null,
       "text_color": null
      }
     },
     "4808c36788d441059ab62da9569e9b19": {
      "model_module": "@jupyter-widgets/base",
      "model_module_version": "2.0.0",
      "model_name": "LayoutModel",
      "state": {
       "width": "145px"
      }
     },
     "4b5da1abbebc42ef978542743f3aee36": {
      "model_module": "@jupyter-widgets/controls",
      "model_module_version": "2.0.0",
      "model_name": "HTMLModel",
      "state": {
       "layout": "IPY_MODEL_52a85b30cbcc4d0584b570a409198d57",
       "style": "IPY_MODEL_06eb65f060974dd1bf07e1c76a57a5c1",
       "value": "<h5>Status</h5>"
      }
     },
     "52a85b30cbcc4d0584b570a409198d57": {
      "model_module": "@jupyter-widgets/base",
      "model_module_version": "2.0.0",
      "model_name": "LayoutModel",
      "state": {
       "width": "95px"
      }
     },
     "582331f1908d4f5da1f4d56ec18dbdd1": {
      "model_module": "@jupyter-widgets/controls",
      "model_module_version": "2.0.0",
      "model_name": "HTMLModel",
      "state": {
       "layout": "IPY_MODEL_c482774df1ee4341a661f5f18488db39",
       "style": "IPY_MODEL_22d2e441fae449878166c3e6c83ff534",
       "value": "<h5>Job ID</h5>"
      }
     },
     "5d6d377f0c7044619cc58c6a9b4a9356": {
      "model_module": "@jupyter-widgets/controls",
      "model_module_version": "2.0.0",
      "model_name": "HBoxModel",
      "state": {
       "children": [
        "IPY_MODEL_582331f1908d4f5da1f4d56ec18dbdd1",
        "IPY_MODEL_6379feb879c743a8b519cdc1309193ce",
        "IPY_MODEL_4b5da1abbebc42ef978542743f3aee36",
        "IPY_MODEL_bf519eb56b71443ab4c8ff68b8e8f1d0",
        "IPY_MODEL_3c2278b0a0b04b219679242fd1297f85"
       ],
       "layout": "IPY_MODEL_089e6a4c60704d50918ca5d8e6ac42ac"
      }
     },
     "6379feb879c743a8b519cdc1309193ce": {
      "model_module": "@jupyter-widgets/controls",
      "model_module_version": "2.0.0",
      "model_name": "HTMLModel",
      "state": {
       "layout": "IPY_MODEL_4808c36788d441059ab62da9569e9b19",
       "style": "IPY_MODEL_2f90921c68f24032a26ebcd77ebbee61",
       "value": "<h5>Backend</h5>"
      }
     },
     "639a92fcdb2f4a95a8b9158d4be011e6": {
      "model_module": "@jupyter-widgets/controls",
      "model_module_version": "2.0.0",
      "model_name": "HTMLStyleModel",
      "state": {
       "description_width": "",
       "font_size": null,
       "text_color": null
      }
     },
     "65acf8e44adc4b6ebf308a9b56ad79f4": {
      "model_module": "@jupyter-widgets/controls",
      "model_module_version": "2.0.0",
      "model_name": "ButtonStyleModel",
      "state": {
       "font_family": null,
       "font_size": null,
       "font_style": null,
       "font_variant": null,
       "font_weight": null,
       "text_color": null,
       "text_decoration": null
      }
     },
     "8e1b0ac4284648df9151ec07e0a47291": {
      "model_module": "@jupyter-widgets/base",
      "model_module_version": "2.0.0",
      "model_name": "LayoutModel",
      "state": {
       "margin": "0px 0px 10px 0px"
      }
     },
     "8ec0418a26ba493fb385de999813cfc8": {
      "model_module": "@jupyter-widgets/base",
      "model_module_version": "2.0.0",
      "model_name": "LayoutModel",
      "state": {
       "grid_area": "right",
       "padding": "0px 0px 0px 0px",
       "width": "70px"
      }
     },
     "9fbda47a9e2049d0abb9a77853a93ef0": {
      "model_module": "@jupyter-widgets/base",
      "model_module_version": "2.0.0",
      "model_name": "LayoutModel",
      "state": {
       "grid_template_areas": "\n                                       \". . . . right \"\n                                        ",
       "grid_template_columns": "20% 20% 20% 20% 20%",
       "width": "100%"
      }
     },
     "bf519eb56b71443ab4c8ff68b8e8f1d0": {
      "model_module": "@jupyter-widgets/controls",
      "model_module_version": "2.0.0",
      "model_name": "HTMLModel",
      "state": {
       "layout": "IPY_MODEL_162562df4a634cd38e0dd7172dc99161",
       "style": "IPY_MODEL_3fcae0ef96ec4efdb607bd1c38494f59",
       "value": "<h5>Queue</h5>"
      }
     },
     "c482774df1ee4341a661f5f18488db39": {
      "model_module": "@jupyter-widgets/base",
      "model_module_version": "2.0.0",
      "model_name": "LayoutModel",
      "state": {
       "width": "190px"
      }
     },
     "d24197719b6d47949bb9f618f41fe236": {
      "model_module": "@jupyter-widgets/base",
      "model_module_version": "2.0.0",
      "model_name": "LayoutModel",
      "state": {}
     }
    },
    "version_major": 2,
    "version_minor": 0
   }
  }
 },
 "nbformat": 4,
 "nbformat_minor": 5
}
